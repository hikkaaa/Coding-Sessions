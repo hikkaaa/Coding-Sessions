{
 "cells": [
  {
   "cell_type": "markdown",
   "metadata": {},
   "source": [
    "# XB_0082 - Exercises Week 1 (2022-2023)\n",
    "\n",
    "\n",
    "### Welcome to Introduction to Python Programming!\n",
    "\n",
    "This Jupyter notebook aims to provide exercises for practicing your programming skills.  \n"
   ]
  },
  {
   "cell_type": "markdown",
   "metadata": {},
   "source": [
    "# Introduction to this notebook\n",
    "\n",
    "* This is a **personal** notebook. \n",
    " \n",
    "<div class=\"alert alert-danger\" role=\"danger\">\n",
    "<h3>Integrity</h3>\n",
    "<ul>\n",
    "    <li>All the exercises and the graded assignments are to be done <b>individually</b>.</li>\n",
    "    <li>You must not copy from the Internet, your friends, books, etc. If you represent other people's work as your own, then that constitutes fraud and will be reported to the Examination Committee.</li>\n",
    "    <li>Making your work available to others (complicity) also constitutes fraud.</li>\n",
    "</ul>\n",
    "</div>\n",
    "\n",
    "You are expected to work with Python 3 code in this notebook.\n",
    "\n",
    "The locations where you should write your solutions can be recognized by **marker lines**, which look like this:\n",
    "\n",
    ">`#//`\n",
    ">    `BEGIN_TODO [Label]` `Description`\n",
    ">\n",
    ">`#//`\n",
    ">    `END_TODO [Label]`\n",
    "\n",
    "<div class=\"alert alert-warning\" role=\"alert\">Do NOT modify or delete these marker lines.  Keep them as they are.<br/>\n",
    "<br/>\n",
    "NEVER write code that is needed for grading <i>outside</i> the marked blocks.\n",
    "</div>\n",
    "\n",
    "Proceed in this notebook as follows:\n",
    "* **Personalize** the notebook (see below)\n",
    "* **Read** the text.\n",
    "* **Fill in** your solutions between `BEGIN_TODO` and `END_TODO` marker lines.\n",
    "* **Run** _all_ code cells (also the ones _without_ your code), _in linear order_ from the first code cell.\n",
    "\n",
    "\n",
    "**Personalize your notebook**:\n",
    "1. Copy the following three lines of code:\n",
    "\n",
    "  ```python\n",
    "  AUTHOR_NAME = 'Your Full Name'\n",
    "  AUTHOR_ID_NR = '1234567'\n",
    "  AUTHOR_DATE = 'YYYY-MM-DD'  # when first modified, e.g. '2019-02-26'\n",
    "  ```\n",
    "\n",
    "1. Paste them between the marker lines in the code cell below.\n",
    "1. Fill in your _full name_, _identification number_, and the current _date_ as strings between quotes.\n",
    "1. Run the code cell by putting the cursor there and typing **Control-Enter**."
   ]
  },
  {
   "cell_type": "code",
   "execution_count": null,
   "metadata": {},
   "outputs": [],
   "source": [
    "#// BEGIN_TODO [Author] Name, Id.nr., Date, as strings \n",
    "\n",
    "# ===== =====> Replace this line by your code. <===== ===== #\n",
    "\n",
    "#// END_TODO [Author]\n",
    "\n",
    "AUTHOR_NAME, AUTHOR_ID_NR, AUTHOR_DATE"
   ]
  },
  {
   "cell_type": "markdown",
   "metadata": {},
   "source": [
    "## Table of Contents\n",
    "<div class=\"toc\" style=\"margin-top: 1em;\">\n",
    "    <ul class=\"toc-item\">\n",
    "        <li>\n",
    "            <span><a href=\"#Introduction-to-this-notebook\" data-toc-modified-id=\"Introduction-to-this-template-notebook\">Introduction to this template notebook</a></span>\n",
    "        </li>\n",
    "        <li>\n",
    "            <span><a href=\"#1.-Your-First-Program:-Hello-World!\" data-toc-modified-id=\"1.-Your-First-Program:-Hello-World!\">1. Your First Program: Hello World!</a></span>\n",
    "        </li>\n",
    "        <li>\n",
    "            <span><a href=\"#2.-Darth Vadder\" data-toc-modified-id=\"2.-Darth Vadder2.0-\">2. Darth Vadder</a></span>\n",
    "        </li>\n",
    "        <li>\n",
    "            <span><a href=\"#3.-format()-Method\" data-toc-modified-id=\"3.-format()-Method\">3. format() Method </a></span>\n",
    "        </li>\n",
    "        <li>\n",
    "            <span><a href=\"#4.-The-Answer-to-Time\" data-toc-modified-id=\"4.-The-Answer-to-Time\">4. The Answer to Time</a></span>\n",
    "        </li>\n",
    "        <li>\n",
    "            <span><a href=\"#5.-Kilometers-to-Miles\" data-toc-modified-id=\"5.-Kilometers-to-Miles\">5. Kilometers to Miles</a></span>\n",
    "        </li>\n",
    "        <li>\n",
    "            <span><a href=\"#6.-Truth-Table\" data-toc-modified-id=\"6.-Truth-Table\">6. Truth Table</a></span>\n",
    "        </li>\n",
    "    </ul>\n",
    "</div>"
   ]
  },
  {
   "cell_type": "markdown",
   "metadata": {},
   "source": [
    "## Preliminaries\n",
    "\n",
    "Run the cell below. This cell will import additional modules providing additional Python functionality."
   ]
  },
  {
   "cell_type": "markdown",
   "metadata": {},
   "source": [
    "## 1. Your First Program: Hello World!\n",
    "\n",
    "The first thing to do when starting to learn any programming language is to make a program that prints the message: **Hello world!**. This starting program is often very small and only uses some basic functionality of the programming language.\n",
    "\n",
    "Now, as your first experience with Python, write code using the `print()` function. The program, as expected, should print the message: 'Hello world!'. The quotes should not be in the output. They are used in the description of the exercises to indicate strings. \n",
    "\n",
    "**Notes:**  \n",
    "- Remember that with Python you can either use single (`''`) or double quotes (`\"\"`) to create strings.\n",
    "- Beware that capital and lowercase letters are treated different in Python. That is, 'L' is differently from 'l'.\n",
    "\n",
    "**Example:**  \n",
    "*Input:*  \n",
    "<pre>\n",
    "None\n",
    "</pre>\n",
    "\n",
    "*Output:*  \n",
    "<pre>\n",
    "Hello world!\n",
    "</pre>"
   ]
  },
  {
   "cell_type": "code",
   "execution_count": null,
   "metadata": {},
   "outputs": [],
   "source": [
    "#// BEGIN_TODO [hello_world] Your first program: Hello world!\n",
    "\n",
    "\n",
    "#// END_TODO [hello_world]"
   ]
  },
  {
   "cell_type": "markdown",
   "metadata": {},
   "source": [
    "**Congratulations on your first Python program!**<br>\n",
    "Many more will surely follow!"
   ]
  },
  {
   "cell_type": "markdown",
   "metadata": {},
   "source": [
    "## 2. Darth Vader"
   ]
  },
  {
   "cell_type": "markdown",
   "metadata": {},
   "source": [
    "Printing messages as strings is a good way to output information on the screen, so you or others can read it. Usually, we want to output the **values** stored in **variables** together with the message.\n",
    "\n",
    "Create a program that prints a message,using the `character` and `movie` variables that you need to create. The message should be as follows: 'My name is `character` and I occur in the movie `movie`.' The quotes should not be in the output. They are used in the description of the exercises to indicate strings. To complete this, define first the `character` and `movie` variables. In a second step, create the message that is going to be printed and store the message in the variable `answer_2`. Then, print out the answer by using the variable `answer_2`.\n",
    "\n",
    "**Notes**: \n",
    "- You do need to define the `character` and `movie` variables.\n",
    "- You are not allowed to use the `.format()` method.\n",
    "- Beware of upper and lowercase letters, as well of extra characters that have (not) been requested in the exercise (e.g. final '.' at the end of the message).\n",
    "\n",
    "**Example:**  \n",
    "*Input:*  \n",
    "```python\n",
    "character = 'Darth Vader'\n",
    "movie = 'Star Wars'\n",
    "```\n",
    "\n",
    "*Output:*  \n",
    "<pre>\n",
    "My name is [character] and I occur in the movie [movie].\n",
    "</pre>"
   ]
  },
  {
   "cell_type": "code",
   "execution_count": null,
   "metadata": {},
   "outputs": [],
   "source": [
    "#// BEGIN_TODO [Darth Vader] Darth Vader\n",
    "\n",
    "#// END_TODO [Darth Vader]"
   ]
  },
  {
   "cell_type": "markdown",
   "metadata": {},
   "source": [
    "## 3. format() Method \n",
    "\n",
    "Print now the message: Amsterdam is the capital of the Netherlands, but this time use the `format()` method. Again, define first the variables `city` and `country`, store the message to be printed in a variable called `answer_3` (use the `format()` method!)  before you write the print statement by using the `answer_3` variable.\n",
    "\n",
    "**Example:**  \n",
    "*Input:*  \n",
    "```python\n",
    "city = 'Amsterdam'\n",
    "country = 'the Netherlands'\n",
    "```\n",
    "\n",
    "*Output:* \n",
    "<pre>\n",
    "[city] is the capital of [country].\n",
    "</pre>"
   ]
  },
  {
   "cell_type": "code",
   "execution_count": null,
   "metadata": {},
   "outputs": [],
   "source": [
    "#// BEGIN_TODO [format_method] format() method\n",
    "\n",
    "#// END_TODO [format_method]"
   ]
  },
  {
   "cell_type": "markdown",
   "metadata": {},
   "source": [
    "## 4. The Answer to Time\n",
    "Computers tend to be much faster in solving equations than we, humans, are. However, to do so, humans have to specify the equations, so computers are able to solve them. Write a program that calculates how many seconds there are in 42 minutes and 42 seconds. Assign the answer to the variable `answer_to_time` and then print its value.\n",
    "\n",
    "**Note:** Do not modify the format of the resulting number. (Any change in the format might result in a failing test.)\n",
    "\n",
    "**Example:**  \n",
    "*Input:*  \n",
    "<pre>\n",
    "None\n",
    "</pre>\n",
    "\n",
    "*Output:*  \n",
    "<pre>\n",
    "2562\n",
    "</pre>"
   ]
  },
  {
   "cell_type": "code",
   "execution_count": null,
   "metadata": {},
   "outputs": [],
   "source": [
    "#// BEGIN_TODO [answer_to_time] The answer to time\n",
    "\n",
    "#// END_TODO [answer_to_time]"
   ]
  },
  {
   "cell_type": "markdown",
   "metadata": {},
   "source": [
    "## 5. Kilometers to Miles\n",
    "\n",
    "Write a program that calculates how many miles there are in 10 kilometers (we are using the variable `kilometers` to store this value). Assign the answer to the variable `miles` and print the result.\n",
    "\n",
    "**Hint:** There are 1.61 kilometers in a mile.\n",
    "\n",
    "**Example:**  \n",
    "*Input:*  \n",
    "```python\n",
    "kilometers = 10\n",
    "```\n",
    "\n",
    "*Output:*  \n",
    "<pre>\n",
    "6.211180124223602\n",
    "</pre>"
   ]
  },
  {
   "cell_type": "code",
   "execution_count": null,
   "metadata": {},
   "outputs": [],
   "source": [
    "#// BEGIN_TODO [kms_to_miles] Kilometers to miles\n",
    "\n",
    "\n",
    "#// END_TODO [kms_to_miles]"
   ]
  },
  {
   "cell_type": "markdown",
   "metadata": {},
   "source": [
    "## 6. Truth Table\n",
    "\n",
    "A truth table is a mathematical artifact that defines the value of a logical expression given a set of logical arguments. Consider the truth table below: `bool_1`, `bool_2`, and `bool_3` are the logical variables of the expression. In this table, we display a subset of all possible outputs. You need to know that there is only one case where the output of the expression evaluates to `True`: when `bool_1` equals `False`, `bool_2` equals `True`, and `bool_3` equals `False`. All other cases evaluate to `False`. Compute the expected output given the values assigned to the `bool_1`, `bool_2`, and `bool_3` variables. Store the result in the `output` variable and print its value. \n",
    "\n",
    "<table>\n",
    "    <tr>\n",
    "        <th>bool_1</th>\n",
    "        <th>bool_2</th> \n",
    "        <th>bool_3</th>\n",
    "        <th>output</th>\n",
    "    </tr>\n",
    "    <tr>\n",
    "        <td>True</td>\n",
    "        <td>True</td> \n",
    "        <td>True</td>\n",
    "        <td>False</td>\n",
    "    </tr>\n",
    "    <tr>\n",
    "        <td>False</td>\n",
    "        <td>True</td> \n",
    "        <td>False</td>\n",
    "        <td>True</td>\n",
    "    </tr>\n",
    "    <tr>\n",
    "        <td>False</td>\n",
    "        <td>False</td> \n",
    "        <td>False</td>\n",
    "        <td>False</td>\n",
    "    </tr>\n",
    "    <tr>\n",
    "        <td>...</td>\n",
    "        <td>...</td> \n",
    "        <td>...</td>\n",
    "        <td>...</td>\n",
    "    </tr>\n",
    "</table>\n",
    "\n",
    "**Example:**  \n",
    "*Input:*  \n",
    "```python\n",
    "bool_1 = True\n",
    "bool_2 = True\n",
    "bool_3 = False\n",
    "```\n",
    "\n",
    "*Output:* \n",
    "<pre>\n",
    "False\n",
    "</pre>\n"
   ]
  },
  {
   "cell_type": "code",
   "execution_count": null,
   "metadata": {},
   "outputs": [],
   "source": [
    "#// BEGIN_TODO [truth_table] Truth table\n",
    "\n",
    "\n",
    "\n",
    "#// END_TODO [truth_table]"
   ]
  },
  {
   "cell_type": "markdown",
   "metadata": {},
   "source": [
    "---\n",
    "\n",
    "# (End of Notebook)\n",
    "\n",
    "&copy; 2020-2022 - **TU/e** - **VU Amsterdam**"
   ]
  },
  {
   "cell_type": "markdown",
   "metadata": {},
   "source": []
  }
 ],
 "metadata": {
  "kernelspec": {
   "display_name": "Python 3 (ipykernel)",
   "language": "python",
   "name": "python3"
  },
  "language_info": {
   "codemirror_mode": {
    "name": "ipython",
    "version": 3
   },
   "file_extension": ".py",
   "mimetype": "text/x-python",
   "name": "python",
   "nbconvert_exporter": "python",
   "pygments_lexer": "ipython3",
   "version": "3.9.7"
  }
 },
 "nbformat": 4,
 "nbformat_minor": 4
}
