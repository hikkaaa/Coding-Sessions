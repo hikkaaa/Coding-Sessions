{
 "cells": [
  {
   "cell_type": "markdown",
   "metadata": {},
   "source": [
    "# Knowledge and Data: Practical Assignment 2\n",
    "## Manipulate local and external RDF Knowledge Graphs "
   ]
  },
  {
   "cell_type": "markdown",
   "metadata": {},
   "source": [
    "YOUR NAME: STEFANIA DIAMANTE CONTE\n",
    "\n",
    "YOUR VUNetID: sce760 2739767\n",
    "\n",
    "*(If you do not provide your name and VUNetID we will not accept your submission).*"
   ]
  },
  {
   "cell_type": "markdown",
   "metadata": {},
   "source": [
    "### Learning objectives"
   ]
  },
  {
   "cell_type": "markdown",
   "metadata": {},
   "source": [
    "At the end of this exercise you should be able to perform some simple manipulations of RDF Data using the rdflib library. You should be able to: \n",
    "\n",
    "1. Add and retrieve information from a local RDF database\n",
    "2. Represent RDF data in other formats, such as the .dot format for graph visualisation\n",
    "3. Retrieve information from an RDF database created from Web Data\n",
    "4. Query information from the Web with SPARQL"
   ]
  },
  {
   "cell_type": "markdown",
   "metadata": {},
   "source": [
    "### Practicalities"
   ]
  },
  {
   "cell_type": "markdown",
   "metadata": {},
   "source": [
    "Follow this Notebook step-by-step. \n",
    "\n",
    "Of course, you can do the exercises in any Programming Editor of your liking. \n",
    "But you do not have to. Feel free to simply write code in the Notebook. When \n",
    "everything is filled in and works, save the Notebook and submit it \n",
    "as a Jupyter Notebook, i.e. with an .ipynb extension. Please use as name of the \n",
    "Notebook your studentID+Assignment2.ipynb.  \n",
    "\n",
    "Other than in courses dedicated to programming we will not evaluate the style\n",
    "of the programs. But we will test your programs on other data than we provide, \n",
    "and your program should give the correct answers to those test-data as well. "
   ]
  },
  {
   "cell_type": "markdown",
   "metadata": {},
   "source": [
    "# A. Tasks related to local RDF Knowledge Graphs"
   ]
  },
  {
   "cell_type": "markdown",
   "metadata": {},
   "source": [
    "This first cell will open a file 'example-from-slide.ttl' using the rdflib library. The first Practical Assignment should have taught you that manipulating symbols as strings is a major pain. \n",
    "\n",
    "Programming libraries, such as **rdflib**, help you with this mess once and for all, by parsing the files, creating appropriate datastructures (Graph()) and providing useful functions (such as serialize(), save() and much more). \n",
    "Check the website of rdflib http://rdflib.readthedocs.io/: this library does most of the hard work for you."
   ]
  },
  {
   "cell_type": "code",
   "execution_count": 78,
   "metadata": {},
   "outputs": [
    {
     "name": "stdout",
     "output_type": "stream",
     "text": [
      "Requirement already satisfied: rdflib in c:\\users\\francesca\\anaconda3\\envs\\100days\\lib\\site-packages (6.2.0)\n",
      "Requirement already satisfied: isodate in c:\\users\\francesca\\anaconda3\\envs\\100days\\lib\\site-packages (from rdflib) (0.6.1)\n",
      "Requirement already satisfied: pyparsing in c:\\users\\francesca\\anaconda3\\envs\\100days\\lib\\site-packages (from rdflib) (3.0.9)\n",
      "Requirement already satisfied: setuptools in c:\\users\\francesca\\anaconda3\\envs\\100days\\lib\\site-packages (from rdflib) (61.2.0)\n",
      "Requirement already satisfied: six in c:\\users\\francesca\\anaconda3\\envs\\100days\\lib\\site-packages (from isodate->rdflib) (1.16.0)\n",
      "Note: you may need to restart the kernel to use updated packages.\n"
     ]
    }
   ],
   "source": [
    "# Before starting with the tasks of this assignment, do not forget to install **rdflib** so we can start using it. \n",
    "%pip install rdflib"
   ]
  },
  {
   "cell_type": "code",
   "execution_count": 79,
   "metadata": {},
   "outputs": [],
   "source": [
    "from rdflib import Graph, RDF, Namespace, Literal, URIRef\n",
    "\n",
    "g = Graph()\n",
    "\n",
    "EX = Namespace('http://example.com/kad0/')\n",
    "g.bind('ex',EX)\n",
    "\n",
    "def serialize_graph():\n",
    "    # g.serialize() returns a string\n",
    "    print(g.serialize(format='turtle'))\n",
    "\n",
    "def save_graph(filename):\n",
    "    with open(filename, 'w') as f:\n",
    "        g.serialize(f, format='nt')\n",
    "        \n",
    "def load_graph(filename):\n",
    "    with open(filename, 'r') as f:\n",
    "        g.parse(f, format='turtle')   "
   ]
  },
  {
   "cell_type": "markdown",
   "metadata": {},
   "source": [
    "The file 'example-from-slides.ttl' formalises the knowledge base from the slides from Module 1, and a bit more. \n",
    "\n",
    "Here is how it looks when you load it into your program and serialise it with rdflib in turtle. "
   ]
  },
  {
   "cell_type": "code",
   "execution_count": 80,
   "metadata": {},
   "outputs": [
    {
     "name": "stdout",
     "output_type": "stream",
     "text": [
      "@prefix ex1: <http://example.com/kad/> .\n",
      "@prefix rdfs: <http://www.w3.org/2000/01/rdf-schema#> .\n",
      "\n",
      "ex1:Germany a ex1:EuropeanCountry .\n",
      "\n",
      "ex1:Netherlands a ex1:Country ;\n",
      "    ex1:hasCapital ex1:Amsterdam ;\n",
      "    ex1:hasName \"The Netherlands\" ;\n",
      "    ex1:neighbours ex1:Belgium .\n",
      "\n",
      "ex1:hasCapital rdfs:range ex1:Capital ;\n",
      "    rdfs:subPropertyOf ex1:containsCity .\n",
      "\n",
      "ex1:Amsterdam a ex1:Capital .\n",
      "\n",
      "ex1:Belgium a ex1:Country .\n",
      "\n",
      "ex1:EuropeanCountry rdfs:subClassOf ex1:Country .\n",
      "\n",
      "ex1:containsCity rdfs:domain ex1:Country ;\n",
      "    rdfs:range ex1:City .\n",
      "\n",
      "ex1:Capital rdfs:subClassOf ex1:City .\n",
      "\n",
      "\n"
     ]
    }
   ],
   "source": [
    "load_graph('example-from-slides.ttl')\n",
    "serialize_graph()"
   ]
  },
  {
   "cell_type": "markdown",
   "metadata": {},
   "source": [
    "Now, we can manipulate the graph very easily, e.g. like in the following very simple function, which returns the predicate(s) that relate a subject to a literal object: "
   ]
  },
  {
   "cell_type": "code",
   "execution_count": 81,
   "metadata": {
    "scrolled": true
   },
   "outputs": [
    {
     "name": "stdout",
     "output_type": "stream",
     "text": [
      "http://example.com/kad/hasName\n"
     ]
    }
   ],
   "source": [
    "for s,p,o in g:\n",
    "    if type(o) is Literal:\n",
    "        print(p)"
   ]
  },
  {
   "cell_type": "markdown",
   "metadata": {},
   "source": [
    "### - Task 1: (1 Point) Add information to an RDF graph"
   ]
  },
  {
   "cell_type": "markdown",
   "metadata": {},
   "source": [
    "Add triples to the knowledge graph. Make sure that they have the right namespaces. \n",
    "\n",
    "Similarily to the triples already present in the file 'example-from-slides.ttl':\n",
    "- add at least three new countries with their name and capital \n",
    "- add at least one triple with the neighbour predicate\n",
    "\n",
    "Check: http://rdflib.readthedocs.io/en/stable/intro_to_creating_rdf.html\n",
    "\n",
    "Remember that ```a``` is Turtle shorthand for ```rdf:type```."
   ]
  },
  {
   "cell_type": "code",
   "execution_count": 82,
   "metadata": {},
   "outputs": [
    {
     "name": "stdout",
     "output_type": "stream",
     "text": [
      "@prefix ex1: <http://example.com/kad/> .\n",
      "@prefix rdf: <http://www.w3.org/1999/02/22-rdf-syntax-ns#> .\n",
      "@prefix rdfs: <http://www.w3.org/2000/01/rdf-schema#> .\n",
      "\n",
      "ex1:Germany a ex1:Country,\n",
      "        ex1:EuropeanCountry ;\n",
      "    rdf:Neighbours ex1:France ;\n",
      "    rdf:hasCapital ex1:Berlin ;\n",
      "    rdf:hasName \"Germany\" .\n",
      "\n",
      "ex1:Netherlands a ex1:Country ;\n",
      "    ex1:hasCapital ex1:Amsterdam ;\n",
      "    ex1:hasName \"The Netherlands\" ;\n",
      "    ex1:neighbours ex1:Belgium .\n",
      "\n",
      "ex1:hasCapital rdfs:range ex1:Capital ;\n",
      "    rdfs:subPropertyOf ex1:containsCity .\n",
      "\n",
      "ex1:Amsterdam a ex1:Capital .\n",
      "\n",
      "ex1:Belgium a ex1:Country ;\n",
      "    rdf:Neighbours ex1:France ;\n",
      "    rdf:hasCapital ex1:Brussel ;\n",
      "    rdf:hasName \"Belgium\" .\n",
      "\n",
      "ex1:EuropeanCountry rdfs:subClassOf ex1:Country .\n",
      "\n",
      "ex1:containsCity rdfs:domain ex1:Country ;\n",
      "    rdfs:range ex1:City .\n",
      "\n",
      "ex1:Capital rdfs:subClassOf ex1:City .\n",
      "\n",
      "ex1:France a ex1:Country ;\n",
      "    rdf:Neighbours ex1:Spain ;\n",
      "    rdf:hasCapital ex1:Paris ;\n",
      "    rdf:hasName \"France\" .\n",
      "\n",
      "\n"
     ]
    }
   ],
   "source": [
    "ex = Namespace(\"http://example.com/kad/\")\n",
    "owl = Namespace(\"http://www.w3.org/2002/07/owl#\")\n",
    "rdf = Namespace(\"http://www.w3.org/1999/02/22-rdf-syntax-ns#\")\n",
    "rdfs = Namespace(\"http://www.w3.org/2000/01/rdf-schema#\")\n",
    "\n",
    "\n",
    "# add triples here to the graph 'g' (do not forget the namespaces).\n",
    "g.add((ex.Belgium, rdf.type, ex.Country))\n",
    "g.add((ex.Belgium, rdf.hasCapital, ex.Brussel))\n",
    "g.add((ex.Belgium, rdf.hasName, Literal(\"Belgium\")))\n",
    "g.add((ex.Belgium, rdf.Neighbours, ex.France))\n",
    "\n",
    "g.add((ex.France, rdf.type, ex.Country))\n",
    "g.add((ex.France, rdf.hasCapital, ex.Paris))\n",
    "g.add((ex.France, rdf.hasName, Literal(\"France\")))\n",
    "g.add((ex.France, rdf.Neighbours, ex.Spain))\n",
    "\n",
    "g.add((ex.Germany, rdf.type, ex.Country))\n",
    "g.add((ex.Germany, rdf.hasCapital, ex.Berlin))\n",
    "g.add((ex.Germany, rdf.hasName, Literal(\"Germany\")))\n",
    "g.add((ex.Germany, rdf.Neighbours, ex.France))\n",
    "\n",
    "\n",
    "serialize_graph()"
   ]
  },
  {
   "cell_type": "markdown",
   "metadata": {},
   "source": [
    "*After you ran the previous code (adding triples) the next cells will be executed on your extended graph. That is ok.*"
   ]
  },
  {
   "cell_type": "markdown",
   "metadata": {},
   "source": [
    "### - Task 2a: (1 Point) Get structured information from an RDF graph (all Literals)"
   ]
  },
  {
   "cell_type": "markdown",
   "metadata": {},
   "source": [
    "Use the functions available in the RDFLib library. Write a small function to print all Literals. \n",
    "\n",
    "Hint: there is a function in rdflib to test the type of an object (check previous examples in this notebook)"
   ]
  },
  {
   "cell_type": "code",
   "execution_count": 83,
   "metadata": {},
   "outputs": [
    {
     "name": "stdout",
     "output_type": "stream",
     "text": [
      "France\n",
      "Belgium\n",
      "Germany\n",
      "The Netherlands\n"
     ]
    }
   ],
   "source": [
    "for s,p,o in g:\n",
    "    if type(o) is Literal:\n",
    "        print(o)"
   ]
  },
  {
   "cell_type": "markdown",
   "metadata": {},
   "source": [
    "### - Task 2b: (1 Point) Get structured information from an RDF graph (all unique Predicates)"
   ]
  },
  {
   "cell_type": "markdown",
   "metadata": {},
   "source": [
    "Please provide another function that gives a **unique** list of the predicates, ordered by occurrence (most occurring first). The answer will look like similar to this: \n",
    "<br>http://www.w3.org/2000/01/rdf-schema#label\n",
    "<br>http://www.w3.org/1999/02/22-rdf-syntax-ns#type\n",
    "<br>http://example.com/sw2016/locatedIn\n",
    "<br>http://www.w3.org/2000/01/rdf-schema#range"
   ]
  },
  {
   "cell_type": "code",
   "execution_count": 84,
   "metadata": {},
   "outputs": [
    {
     "name": "stdout",
     "output_type": "stream",
     "text": [
      "http://www.w3.org/1999/02/22-rdf-syntax-ns#type\n",
      "http://www.w3.org/1999/02/22-rdf-syntax-ns#hasName\n",
      "http://www.w3.org/1999/02/22-rdf-syntax-ns#hasCapital\n",
      "http://www.w3.org/1999/02/22-rdf-syntax-ns#Neighbours\n",
      "http://www.w3.org/2000/01/rdf-schema#subClassOf\n",
      "http://www.w3.org/2000/01/rdf-schema#range\n",
      "http://www.w3.org/2000/01/rdf-schema#subPropertyOf\n",
      "http://example.com/kad/neighbours\n",
      "http://www.w3.org/2000/01/rdf-schema#domain\n",
      "http://example.com/kad/hasName\n",
      "http://example.com/kad/hasCapital\n"
     ]
    }
   ],
   "source": [
    "\n",
    "list = []\n",
    "for s,p,o in g:\n",
    "    list.append(p)\n",
    "\n",
    "\n",
    "sorted_list = sorted(list, key = list.count, reverse = True)\n",
    "\n",
    "def unique(list):\n",
    "    unique = []\n",
    "    for predicate in list:\n",
    "        if predicate not in unique:\n",
    "            unique.append(predicate)\n",
    "            \n",
    "    for predicate in unique:\n",
    "        print(predicate)\n",
    "        \n",
    "unique(sorted_list)\n",
    "        \n",
    "        \n",
    "    \n"
   ]
  },
  {
   "cell_type": "markdown",
   "metadata": {},
   "source": [
    "# B. Tasks related to Graph visualisations "
   ]
  },
  {
   "cell_type": "markdown",
   "metadata": {},
   "source": [
    "### - Task 3a: (2 Point) From RDF to .dot \n"
   ]
  },
  {
   "cell_type": "markdown",
   "metadata": {},
   "source": [
    "In the lecture, we have seen two ways of writing a knowledge graph (simple n-triples, and simple turtle). Let us consider a 3rd syntax, this time a syntax that is useful for visualisation. One standard for visualising graphs is the .dot format.\n",
    "\n",
    "Print the knowledge graph in .dot file format. Check https://graphviz.gitlab.io/documentation/ and https://graphviz.readthedocs.io/en/stable/ for the documentation. You will only need very little of this information, and the most relevant information can be found in the examples that are given. \n",
    "\n",
    "<br>Basically, an RDF graph in .dot format starts with \n",
    "<br>digraph G { \n",
    "    and then a list of links of the following form \n",
    "<br>s -> o [label=\"p\"]\n",
    "    for every (s p o ) in KG (separated by ;\n",
    "<br>Do not forget to end with a closing bracket. }\n",
    "\n",
    "An example is \n",
    "     \n",
    "     digraph G { s1 -> o1 [label=\"p1\"] ; s2 -> o2 [label=\"p2\"] } \n",
    "     \n",
    "for an RDF graph {(s1 p1 o1),(s2 p2 o2)}"
   ]
  },
  {
   "cell_type": "code",
   "execution_count": 85,
   "metadata": {},
   "outputs": [
    {
     "name": "stdout",
     "output_type": "stream",
     "text": [
      "Requirement already satisfied: graphviz in c:\\users\\francesca\\anaconda3\\envs\\100days\\lib\\site-packages (0.20.1)\n",
      "Note: you may need to restart the kernel to use updated packages.\n"
     ]
    }
   ],
   "source": [
    "# install and import the graphviz library\n",
    "%pip install graphviz\n",
    "import graphviz"
   ]
  },
  {
   "cell_type": "markdown",
   "metadata": {},
   "source": [
    "First, create an auxiliary function which strips the namespaces from URIs. This is necessary to make the node names readable when visualizing the .dot graph."
   ]
  },
  {
   "cell_type": "code",
   "execution_count": 86,
   "metadata": {},
   "outputs": [],
   "source": [
    "def strip(string):\n",
    "    if '#' in string:\n",
    "        string = string.split('#')[-1]\n",
    "    else: \n",
    "        string = string.split('/')[-1]\n",
    "    return string \n",
    "\n"
   ]
  },
  {
   "cell_type": "markdown",
   "metadata": {},
   "source": [
    "Next, convert your graph to the .dot format"
   ]
  },
  {
   "cell_type": "code",
   "execution_count": 87,
   "metadata": {},
   "outputs": [],
   "source": [
    "dot = graphviz.Digraph(strict=True, graph_attr={\"dpi\":\"52\"}, node_attr={\"shape\":\"box\"}) # adjust dpi to scale graph\n",
    "\n",
    "for s,p,o in g:\n",
    "    # dot.node(strip(s))\n",
    "    # dot.node(strip(p))\n",
    "    # dot.node(strip(o))\n",
    "    # specify edges \n",
    "    dot.edge(strip(s),strip(o), label=str(strip(p)))\n",
    "    \n"
   ]
  },
  {
   "cell_type": "markdown",
   "metadata": {},
   "source": [
    "View the end result as .dot syntax and as a graph:"
   ]
  },
  {
   "cell_type": "code",
   "execution_count": null,
   "metadata": {},
   "outputs": [
    {
     "name": "stdout",
     "output_type": "stream",
     "text": [
      "strict digraph {\n",
      "\tgraph [dpi=52]\n",
      "\tnode [shape=box]\n",
      "\tEuropeanCountry -> Country [label=subClassOf]\n",
      "\thasCapital -> containsCity [label=subPropertyOf]\n",
      "\tGermany -> EuropeanCountry [label=type]\n",
      "\tFrance -> Country [label=type]\n",
      "\tNetherlands -> Country [label=type]\n",
      "\tFrance -> France [label=hasName]\n",
      "\tBelgium -> Brussel [label=hasCapital]\n",
      "\tBelgium -> France [label=Neighbours]\n",
      "\tGermany -> France [label=Neighbours]\n",
      "\thasCapital -> Capital [label=range]\n",
      "\tAmsterdam -> Capital [label=type]\n",
      "\tcontainsCity -> City [label=range]\n",
      "\tBelgium -> Belgium [label=hasName]\n",
      "\tCapital -> City [label=subClassOf]\n",
      "\tNetherlands -> Belgium [label=neighbours]\n",
      "\tFrance -> Paris [label=hasCapital]\n",
      "\tGermany -> Berlin [label=hasCapital]\n",
      "\tBelgium -> Country [label=type]\n",
      "\tGermany -> Germany [label=hasName]\n",
      "\tcontainsCity -> Country [label=domain]\n",
      "\tNetherlands -> \"The Netherlands\" [label=hasName]\n",
      "\tNetherlands -> Amsterdam [label=hasCapital]\n",
      "\tFrance -> Spain [label=Neighbours]\n",
      "\tGermany -> Country [label=type]\n",
      "}\n",
      "\n"
     ]
    },
    {
     "data": {
      "text/plain": [
       "'Graph\\\\Digraph.gv.pdf'"
      ]
     },
     "execution_count": 64,
     "metadata": {},
     "output_type": "execute_result"
    }
   ],
   "source": [
    "print(dot.source)\n",
    "dot.view\n",
    "dot.render(directory='Graph', view=True) \n"
   ]
  },
  {
   "cell_type": "markdown",
   "metadata": {},
   "source": [
    "### - Task 3b: (1 Point) From RDF to .dot with \"semantic information\""
   ]
  },
  {
   "cell_type": "markdown",
   "metadata": {},
   "source": [
    "There is a conceptual distinction between properties, instances and classes (sets of instances). A simple way of checking is the following\n",
    "\n",
    "1. in a triple (s a o), with predicate a (which is a special abbreviation for the predicate rdf:type), the s is an Instance, and o is a Class. \n",
    "2. in a triple (s rdfs:subClassOf o) both s and o are Classes. \n",
    "3. in a triple (p rdfs:domain o) p is a Property and o is a Class. \n",
    "4. in a triple (p rdfs:range o)  p is a Property and o is a Class. \n",
    "\n",
    "Update the .dot representation for your RDF graph that distinguishes between types of links (RDF vocabulary vs others) and types of nodes (Classes versus Entities versus Literals) via different colors. Hint: you can use the 'color' attribute in the ```node``` and ```edge``` function.\n",
    "\n",
    "Check how your graph looks once finished."
   ]
  },
  {
   "cell_type": "code",
   "execution_count": 89,
   "metadata": {},
   "outputs": [
    {
     "name": "stdout",
     "output_type": "stream",
     "text": [
      "digraph G {\n",
      "\"EuropeanCountry\"[color=yellow]\n",
      "\"Country\"[color=yellow]\n",
      "EuropeanCountry -> Country [label=\"subClassOf\", color=purple];\n",
      "hasCapital -> containsCity [label=\"subPropertyOf\", color=black];\n",
      "\"Germany\"[color=browm]\n",
      "\"EuropeanCountry\"[color=yellow]\n",
      "Germany -> EuropeanCountry [label=\"type\", color=red];\n",
      "\"France\"[color=browm]\n",
      "\"Country\"[color=yellow]\n",
      "France -> Country [label=\"type\", color=red];\n",
      "\"Netherlands\"[color=browm]\n",
      "\"Country\"[color=yellow]\n",
      "Netherlands -> Country [label=\"type\", color=red];\n",
      "France -> France [label=\"hasName\", color=black];\n",
      "Belgium -> Brussel [label=\"hasCapital\", color=black];\n",
      "Belgium -> France [label=\"Neighbours\", color=black];\n",
      "Germany -> France [label=\"Neighbours\", color=black];\n",
      "hasCapital -> Capital [label=\"range\", color=black];\n",
      "\"Amsterdam\"[color=browm]\n",
      "\"Capital\"[color=yellow]\n",
      "Amsterdam -> Capital [label=\"type\", color=red];\n",
      "containsCity -> City [label=\"range\", color=black];\n",
      "Belgium -> Belgium [label=\"hasName\", color=black];\n",
      "\"Capital\"[color=yellow]\n",
      "\"City\"[color=yellow]\n",
      "Capital -> City [label=\"subClassOf\", color=purple];\n",
      "Netherlands -> Belgium [label=\"neighbours\", color=black];\n",
      "France -> Paris [label=\"hasCapital\", color=black];\n",
      "Germany -> Berlin [label=\"hasCapital\", color=black];\n",
      "\"Belgium\"[color=browm]\n",
      "\"Country\"[color=yellow]\n",
      "Belgium -> Country [label=\"type\", color=red];\n",
      "Germany -> Germany [label=\"hasName\", color=black];\n",
      "containsCity -> Country [label=\"domain\", color=black];\n",
      "Netherlands -> The Netherlands [label=\"hasName\", color=black];\n",
      "Netherlands -> Amsterdam [label=\"hasCapital\", color=black];\n",
      "France -> Spain [label=\"Neighbours\", color=black];\n",
      "\"Germany\"[color=browm]\n",
      "\"Country\"[color=yellow]\n",
      "Germany -> Country [label=\"type\", color=red];\n",
      "}\n"
     ]
    }
   ],
   "source": [
    "print(\"digraph G {\")\n",
    "for s,p,o in g:\n",
    "    s = (strip(s))\n",
    "    p = (strip(p))\n",
    "    o = (strip(o))\n",
    "    \n",
    "    \n",
    "\n",
    "    \n",
    "    color = \"black\"\n",
    "    if p == \"type\":\n",
    "        color = \"red\"\n",
    "        print('\"'+s+'\"'+\"[color=browm]\")\n",
    "        print('\"'+o+'\"'+\"[color=yellow]\")\n",
    "    elif p == \"subClassOf\":\n",
    "        color = \"purple\"\n",
    "        print('\"'+ s + '\"'+\"[color=yellow]\")\n",
    "        print('\"' + o + '\"'+\"[color=yellow]\")\n",
    "    elif s == \"domain\":\n",
    "        color = \"yellow\"\n",
    "        print('\"' + o + '\"'+\"[color=orange]\")\n",
    "        print('\"' + o + '\"'+\"[color=yellow]\")\n",
    "    elif s == \"range\":\n",
    "        color = \"gray\"\n",
    "        print('\"' + o + '\"'+\"[color=orange]\")\n",
    "        print('\"' + o + '\"'+\"[color=yellow]\")\n",
    "    print('{} -> {} [label=\"{}\", color={}];'.format(s, o, p, color))\n",
    "print(\"}\")\n",
    "             "
   ]
  },
  {
   "cell_type": "markdown",
   "metadata": {},
   "source": [
    "### - Task 4: (1 Point) Deriving implicit knowledge (a bit of schema)\n",
    "\n",
    "We will look into Schema information in the latter modules, but let us try already to find some implicit information in a first bit of inferencing: whenever there are two statements (s a o) and (o rdfs:subClassOf o2) we can derive (and later prove) that (s a o2). \n",
    "\n",
    "Write a procedure that adds all implied triples to our knowledge graph. "
   ]
  },
  {
   "cell_type": "code",
   "execution_count": 91,
   "metadata": {},
   "outputs": [
    {
     "name": "stdout",
     "output_type": "stream",
     "text": [
      "[(rdflib.term.URIRef('http://example.com/kad/Germany'), rdflib.term.URIRef('http://example.com/kad/EuropeanCountry')), (rdflib.term.URIRef('http://example.com/kad/France'), rdflib.term.URIRef('http://example.com/kad/Country')), (rdflib.term.URIRef('http://example.com/kad/Netherlands'), rdflib.term.URIRef('http://example.com/kad/Country')), (rdflib.term.URIRef('http://example.com/kad/Amsterdam'), rdflib.term.URIRef('http://example.com/kad/Capital')), (rdflib.term.URIRef('http://example.com/kad/Belgium'), rdflib.term.URIRef('http://example.com/kad/Country')), (rdflib.term.URIRef('http://example.com/kad/Amsterdam'), rdflib.term.URIRef('http://example.com/kad/City')), (rdflib.term.URIRef('http://example.com/kad/Germany'), rdflib.term.URIRef('http://example.com/kad/Country'))]\n"
     ]
    }
   ],
   "source": [
    "s_o = []\n",
    "list = []\n",
    "\n",
    "for s,p,o in g:\n",
    "    if p == RDF.type:\n",
    "        s_o.append((s, o))\n",
    "        \n",
    "for s,p,o in g:\n",
    "    for tuples in s_o:\n",
    "        if 'subClassOf' in p and s == tuples[1]:\n",
    "            g.add((tuples[0], RDF.type, o))\n",
    "            list.append((tuples[0], RDF.type, o))\n",
    "            \n",
    "print(s_o)"
   ]
  },
  {
   "cell_type": "markdown",
   "metadata": {},
   "source": [
    "# C. Tasks related to local copies of external RDF Datasets using SPARQL"
   ]
  },
  {
   "cell_type": "markdown",
   "metadata": {},
   "source": [
    "Until now, we have manipulated local knowledge graphs, but as we claimed in the lectures, the advantage of knowledge graphs is that they can easily be linked with other datasets on the Web. \n",
    "\n",
    "In the remaining 3 tasks, we will manipulate data from the Web, and ask complex queries over this web data. \n",
    "\n",
    "In the first task, we will access web data, make a local copy of it, and then query it. In the other two tasks, we will query live data directly from web Knowledge Graphs (in this case, the SPARQL endpoint of DBPedia). "
   ]
  },
  {
   "cell_type": "markdown",
   "metadata": {},
   "source": [
    "### - Task 5: (1 Point) Show and manipulate data about RDF resources on the Web "
   ]
  },
  {
   "cell_type": "markdown",
   "metadata": {},
   "source": [
    "With rdflib we can easily load a local graph, but we can just as well retrieve a graph from the Web. Here, we will do so using the *requests* library, which allows us to fire a request to any server and/or SPARQL endpoint and to capture the response. The following snippet does so for the resource Netherlands from Dbpedia, by using the 'DESCRIBE' keyword to give us all triples about The Netherlands, and then loads it in a RDFlib Graph object. Note that, in the next assignment, we will learn a more high-level approach that hides most of the raw request details."
   ]
  },
  {
   "cell_type": "code",
   "execution_count": 92,
   "metadata": {},
   "outputs": [
    {
     "name": "stdout",
     "output_type": "stream",
     "text": [
      "Requirement already satisfied: requests in c:\\users\\francesca\\anaconda3\\envs\\100days\\lib\\site-packages (2.28.1)\n",
      "Requirement already satisfied: charset-normalizer<3,>=2 in c:\\users\\francesca\\anaconda3\\envs\\100days\\lib\\site-packages (from requests) (2.1.1)\n",
      "Requirement already satisfied: urllib3<1.27,>=1.21.1 in c:\\users\\francesca\\anaconda3\\envs\\100days\\lib\\site-packages (from requests) (1.26.12)\n",
      "Requirement already satisfied: certifi>=2017.4.17 in c:\\users\\francesca\\anaconda3\\envs\\100days\\lib\\site-packages (from requests) (2022.6.15)\n",
      "Requirement already satisfied: idna<4,>=2.5 in c:\\users\\francesca\\anaconda3\\envs\\100days\\lib\\site-packages (from requests) (3.3)\n",
      "Note: you may need to restart the kernel to use updated packages.\n"
     ]
    }
   ],
   "source": [
    "# install the library\n",
    "%pip install requests"
   ]
  },
  {
   "cell_type": "code",
   "execution_count": 93,
   "metadata": {},
   "outputs": [],
   "source": [
    "import requests\n",
    "\n",
    "endpoint = \"https://dbpedia.org/sparql\"\n",
    "query = 'DESCRIBE <http://dbpedia.org/resource/Netherlands>'\n",
    "\n",
    "payload = {'query':query, 'format':'text/turtle'}\n",
    "response = requests.post(endpoint, data = payload)\n",
    "\n",
    "g = Graph()\n",
    "g.parse(data=response.text, format='ttl')"
   ]
  },
  {
   "cell_type": "markdown",
   "metadata": {},
   "source": [
    "Now do the same for Belgium"
   ]
  },
  {
   "cell_type": "code",
   "execution_count": null,
   "metadata": {},
   "outputs": [
    {
     "data": {
      "text/plain": [
       "<Graph identifier=Na0e3cfefb5a44c69bc48cb8498023ce4 (<class 'rdflib.graph.Graph'>)>"
      ]
     },
     "execution_count": 69,
     "metadata": {},
     "output_type": "execute_result"
    }
   ],
   "source": [
    "query = 'DESCRIBE <http://dbpedia.org/resource/Belgium>'\n",
    "\n",
    "payload = {'query':query, 'format':'text/turtle'}\n",
    "response = requests.post(endpoint, data = payload)\n",
    "\n",
    "g = Graph()\n",
    "g.parse(data=response.text, format='ttl')  # calling parse again merges the graphs"
   ]
  },
  {
   "cell_type": "markdown",
   "metadata": {},
   "source": [
    "Let us start by showing diverse bits of information w.r.t  The Netherlands and Belgium in DBPedia. It is very similar to task 1, but now with Web Data. \n",
    "\n",
    "First, query the graph g (now containing the DBPedia information about both countries) and check which motor ways cross both countries."
   ]
  },
  {
   "cell_type": "code",
   "execution_count": null,
   "metadata": {},
   "outputs": [],
   "source": [
    "qres = g.query(\n",
    "   \"\"\"\n",
    "    PREFIX dbr: <http://dbpedia.org/resource/>\n",
    "    PREFIX dbo: <http://dbpedia.org/ontology/>\n",
    "    SELECT ?s\n",
    "        WHERE {\n",
    "            ?s dbo:country dbr:Netherlands .\n",
    "            ?s dbo:country dbr:Belgium .\n",
    "        }\n",
    "        LIMIT 10\n",
    "       \"\"\")\n",
    "for row in qres:\n",
    "    print(\"%s\" % row)\n"
   ]
  },
  {
   "cell_type": "markdown",
   "metadata": {},
   "source": [
    "Write a query to check whether you can find someone who was born in The Netherlands and died in Belgium? You need to look at the data to know which property you should check for. \n",
    "\n",
    "To get an intuition of what is in the knowledge graph you might want to look at the human readable rendering on : http://dbpedia.org/resource/Netherlands"
   ]
  },
  {
   "cell_type": "code",
   "execution_count": null,
   "metadata": {
    "scrolled": true
   },
   "outputs": [],
   "source": [
    "qres = g.query(\n",
    "   \"\"\"\n",
    "    PREFIX dbr: <http://dbpedia.org/resource/>\n",
    "    PREFIX dbo: <http://dbpedia.org/ontology/>\n",
    "    SELECT ?s\n",
    "        WHERE {\n",
    "            ?s dbo:birthPlace dbr:Netherlands .\n",
    "            ?s dbo:deathPlace dbr:Belgium .\n",
    "        }\n",
    "        LIMIT 10\n",
    "       \"\"\")\n",
    "for row in qres:\n",
    "    print(\"%s\" % row)"
   ]
  },
  {
   "cell_type": "markdown",
   "metadata": {},
   "source": [
    "### - Task 6: (2 Points) Ask SPARQL against live data using Yasgui\n",
    "\n",
    "Yasgui (https://yasgui.triply.cc) is a nice graphical interface for asking queries.\n",
    "\n",
    "Run a new query against http://dbpedia.org/sparql that does the following:\n",
    "\n",
    "- Find all languages spoken in countries that are not official languages of that country\n",
    "- The query should return two colums: the country, and the number of languages.\n",
    "- Order the countries by the number of unofficial languages, from high to low."
   ]
  },
  {
   "cell_type": "code",
   "execution_count": null,
   "metadata": {},
   "outputs": [
    {
     "data": {
      "text/plain": [
       "'\\nSPARQL Query:\\nPREFIX rdf: <http://www.w3.org/1999/02/22-rdf-syntax-ns#>\\nPREFIX dbo: <http://dbpedia.org/ontology/>\\nSELECT ?country (COUNT(?spokenIn) AS ?unofficialLanguages)\\nWHERE {\\n    ?country rdf:type dbo:Country. ?spokenIn dbo:spokenIn ?country.\\n    FILTER NOT EXISTS {?spokenIn dbo:language ?officialLanguage}\\n}\\nGROUP BY ?country\\nHAVING(COUNT(?spokenIn) > 1)\\nORDER BY DESC(?unofficialLanguages)\\n'"
      ]
     },
     "execution_count": 72,
     "metadata": {},
     "output_type": "execute_result"
    }
   ],
   "source": [
    "'''\n",
    "SPARQL Query:\n",
    "PREFIX rdf: <http://www.w3.org/1999/02/22-rdf-syntax-ns#>\n",
    "PREFIX dbo: <http://dbpedia.org/ontology/>\n",
    "SELECT ?country (COUNT(?spokenIn) AS ?unofficialLanguages)\n",
    "WHERE {\n",
    "    ?country rdf:type dbo:Country. ?spokenIn dbo:spokenIn ?country.\n",
    "    FILTER NOT EXISTS {?spokenIn dbo:language ?officialLanguage}\n",
    "}\n",
    "GROUP BY ?country\n",
    "HAVING(COUNT(?spokenIn) > 1)\n",
    "ORDER BY DESC(?unofficialLanguages)\n",
    "'''"
   ]
  }
 ],
 "metadata": {
  "kernelspec": {
   "display_name": "Python 3.10.4 ('100days')",
   "language": "python",
   "name": "python3"
  },
  "language_info": {
   "codemirror_mode": {
    "name": "ipython",
    "version": 3
   },
   "file_extension": ".py",
   "mimetype": "text/x-python",
   "name": "python",
   "nbconvert_exporter": "python",
   "pygments_lexer": "ipython3",
   "version": "3.10.4"
  },
  "vscode": {
   "interpreter": {
    "hash": "91af407a6f541e5bfae1d5ad72731cf1ee3fb6150f67ebd7183de4ed1b585287"
   }
  }
 },
 "nbformat": 4,
 "nbformat_minor": 4
}
