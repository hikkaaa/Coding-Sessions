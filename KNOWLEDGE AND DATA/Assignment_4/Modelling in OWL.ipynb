{
 "cells": [
  {
   "cell_type": "markdown",
   "metadata": {},
   "source": [
    "# Knowledge and Data: Practical Assignment 4 \n",
    "## Modelling in OWL "
   ]
  },
  {
   "cell_type": "markdown",
   "metadata": {},
   "source": [
    "- YOUR NAME: FRANCESCA URGESE\n",
    "\n",
    "- YOUR VUNetID: fue400 2736482\n",
    "\n",
    "*(If you do not provide your NAME and VUNetID we will not accept your submission.)*"
   ]
  },
  {
   "cell_type": "markdown",
   "metadata": {},
   "source": [
    "For this assignment you will be engineering and reasoning over your very own OWL ontology.\n",
    "\n",
    "You are free to choose the domain (subject) of the ontology you are going to build (e.g. on nutritional value, recipes, supermarkets, food safety, health, restaurants, planes, trains and automobiles, developing countries, modern slavery, political parties, refugees, you name it...). Just be creative and choose a domain we have not seen in class yet. \n",
    "\n",
    "We expect extensive answers for this assignment: give a full account of what you did, such that a peer would be able to reproduce your ontology. This means that you must explicitly state the new axioms (in some Human readable syntax, such as Manchester Syntax, so no ttl) and that we expect you to motivate your choices (usually 1-3 lines).\n",
    "\n",
    "**IMPORTANT: You will have to hand in your ontology (as ttl) together with the notebook**"
   ]
  },
  {
   "cell_type": "markdown",
   "metadata": {},
   "source": [
    "### Learning objectives"
   ]
  },
  {
   "cell_type": "markdown",
   "metadata": {},
   "source": [
    "At the end of this exercise you should be able to build and ontology and to reason over it: \n",
    "1. You will be able to engineer an OWL ontology\n",
    "2. You will be able to conceptualize a (small) domain\n",
    "3. You will be able use conditions and property characteristics\n",
    "4. You will be able to use a reasoner to infer implicit knowledge\n",
    "5. You will be able to work in Protégé"
   ]
  },
  {
   "cell_type": "markdown",
   "metadata": {},
   "source": [
    "### Preliminaries\n",
    "\n",
    "There are several tools which can be used to create and edit RDF and OWL files (in addition to your favourite text-based editor). For this assignment we urge you to use the open-source tool [Protégé](https://protege.stanford.edu), which is a stand-alone editor that is very much tailored towards OWL ontology editing.\n",
    "\n",
    "To install Protégé on your system, please take a look at the [installation instructions](https://protegeproject.github.io/protege/installation/).\n",
    " \n",
    "Protégé is a complex tool with many options, only few of which we will need for this assignment. There are various resources available to get you started:\n",
    "\n",
    "- Watch a short [Protégé Screencast Tutorial](https://vimeo.com/183829740) (created by Rinke Hoekstra)\n",
    "- Check out the [Practical Guide To Building OWL Ontologies Using Protégé 5](https://www.researchgate.net/publication/351037551_A_Practical_Guide_to_Building_OWL_Ontologies_Using_Protege_55_and_Plugins) that uses the [Pizza ontology](https://protege.stanford.edu/ontologies/pizza/pizza.owl) to describe how to create ontologies using Protégé.\n",
    "- Check the [Assignment 4 document](https://docs.google.com/document/d/1Dw2winjfr2TJq3r1q6ZRpud9Qn--tq4ioWDqiBdrrzI) containing Tips & Recommendations on how to create ontologies."
   ]
  },
  {
   "cell_type": "markdown",
   "metadata": {},
   "source": [
    "### Task 1 (1 Point) : Creating an empty ontology\n",
    "\n",
    "Create a new empty ontology in Protégé.\n",
    "\n",
    "Be sure to:\n",
    "- Choose your own unique ontology IRI, its namespace, and a prefix\n",
    "- Add metadata in the form of *rdfs:label*, *rdfs:comment*, and *rdfs:isDefinedBy* annotations.  \n",
    "  Use *rdfs:comment* to describe the domain and target audience of your ontology.\n",
    "\n",
    "Write down the IRI, its prefix, and the metadata that you have added in the textfield below:"
   ]
  },
  {
   "cell_type": "markdown",
   "metadata": {},
   "source": [
    "IRI: http://www.semanticweb.org/francesca/familly-relations\n",
    "Namespace: http://www.semanticweb.org/francesca/familly-relations/\n",
    "Prefix: st\n",
    "\n",
    "Metadata:\n",
    "rdfs:comment \"This is a family-tracking ontology that can infer basic family relations. I chose this theme because I was fascinated by the several applications this could have, from the detection and investigation field to the healthcare one. In particular, for the latter, a further development of this ontology could be useful regarding the communications in case of emergency. The ontology would be able to infer the family members geographically nearer to the patient, with specified relationship and their full names\""
   ]
  },
  {
   "cell_type": "markdown",
   "metadata": {},
   "source": [
    "### Task 2a (1 Point) : Populating your ontology\n",
    "\n",
    "Populate your ontology such that it contains\n",
    "- six classes\n",
    "- three data properties\n",
    "- four object properties\n",
    "\n",
    "For **each** class, create **two** example instances:\n",
    "- assert one instance as a member of this class (i.e. using *rdf:type*).\n",
    "- leave the second instance without any type.\n",
    "\n",
    "Your ontology should now have 12 instances: six instances with a certain *rdf:type*, and six instances without any *rdf:type*.\n",
    "\n",
    "List and describe the 6 classes you created in the textfield below, together with their instances. Don't forget to motivate your choices."
   ]
  },
  {
   "cell_type": "markdown",
   "metadata": {},
   "source": [
    "Class Name: Family tree \\\n",
    "Description:  Class owl:Thing\n",
    "\n",
    "Class Name: Child \\\n",
    "Description: rdfs:label \"Child\" @en \\\n",
    "\n",
    "Class Name: Daughter \\\n",
    "Description:  rdfs:label \"Daughter\" @en, subclassOf: Child \\\n",
    "Instances:  Giulia\n",
    "\n",
    "Class Name: Son \\\n",
    "Description:  rdfs:label \"Son\" @en, subclassOf: Child \\\n",
    "Instances:  Michele\n",
    "\n",
    "Class Name: Parent \\\n",
    "Description:  rdfs:label \"Parent\" @en \n",
    "\n",
    "Class Name: Father \\\n",
    "Description:  rdfs:label \"Father\" @en, subclassOf: Parent \\\n",
    "Instances:  Enrico\n",
    "\n",
    "Class Name: Mother \\\n",
    "Description:  rdfs:label \"Mother\" @en, subclassOf: Parent \\\n",
    "Instances:  Valeria\n",
    "\n",
    "Class Name: Grandparent\\\n",
    "Description:  rdfs:label \"Grandparent\" @en\n",
    "\n",
    "Class Name: Grandfather\\\n",
    "Description:  rdfs:label \"Grandfather\" @en, subclassOf: Grandparent\\\n",
    "Instances: Franco\n",
    "\n",
    "Class Name: Grandmother\\\n",
    "Description:  rdfs:label \"Grandmother\" @en, subclassOf: Grandparent\\\n",
    "Instances: Rosa\n",
    "\n",
    "Class Name: Spouse\\\n",
    "Description:  rdfs:label \"Spouse\" @en\n",
    "\n",
    "Class Name: Husband\\\n",
    "Description:  rdfs:label \"Husband\" @en, subclassOf: Spouse\\\n",
    "Instances: Enrico\n",
    "\n",
    "Class Name: Wife\\\n",
    "Description:  rdfs:label \"Wife\" @en, subclassOf: Spouse\\\n",
    "Instances: Valeria\n",
    "\n",
    "\n",
    "##############################################################################################################################################\n",
    "Instances with no rdf:type : Alessia, Alessandro, Maria, MicheleSenior, Piero, Angela\n",
    "\n",
    "############################################################################################################################################\n",
    "CHOICES MOTIVATION: \n",
    "Our ontology is based on a family tree. For this reason, it is important to have classes refering to at least the most basic family relations. Then, instances or individuals were given to six of these classes. Each istance or individual represents a family member. Half of these instances have been already specified as members of a certain class, but the other half was left unassigned since we will want the reasoner to make inferences about the membership of those.\n"
   ]
  },
  {
   "cell_type": "markdown",
   "metadata": {},
   "source": [
    "### Task 2b (1 Point) : Asserting properties\n",
    " \n",
    "For *each* instance:\n",
    "- assert at least one data property (e.g. ex:instanceA *ex:hasFullName* \"Some Full Name\"). \n",
    "- assert at least one object property, relating instances to each other (e.g.  ex:instanceA *ex:attendsCourse* ex:instanceB) \n",
    "\n",
    "List and describe 3 statements from your ontology, containing 3 different data property assertions:"
   ]
  },
  {
   "cell_type": "markdown",
   "metadata": {},
   "source": [
    "1) ex:Rosa ex:HasLegalStatus \"Widow\"\\\n",
    "To track all family members, it is important to track also their partner, if present. It is important to know the legal status of each family member so that we do not forget to include someone's spouse. \n",
    "\n",
    "2) ex:Giulia ex:LivesIn \"Rome\"\\\n",
    "The reasoning of the instance is regarded as advantageous in a possible scenario where the patient is characterized by his/her own family tree, thus it is important to state all relevant information to retrieve the nearest family member to call in case of emergency. \n",
    "\n",
    "3) ex:Alessia ex:hasFullName \"Alessia Rossi\"\\\n",
    "The information about the full name is specified in the instance to be more clear about the personal information of the family member to call in case of emergency. This also a resourceful information if we want to find the designated person without a cellphone number. \n",
    "\n",
    "\n"
   ]
  },
  {
   "cell_type": "markdown",
   "metadata": {},
   "source": [
    "List and describe 4 statements from your ontology, containing 4 different object property assertions:"
   ]
  },
  {
   "cell_type": "markdown",
   "metadata": {},
   "source": [
    "1) ex:Enrico ex:Has-Daughter ex:Giulia\\\n",
    "This object property assertion indicates that Enrico (type:Father) is the father of Giulia (type:Daughter), and inversely that Giulia is the daughter of Enrico.\n",
    "\n",
    "2) ex:Piero ex:Has-Spouse ex:Angela\\\n",
    "This object property assertion indicates that Piero has Angela as Spouse, and inversely that Angela is the Spouse of Piero).\n",
    "\n",
    "3) ex:Rosa ex:Grandparent-Of ex:Giulia\\\n",
    "This object property assertion indicates that Rosa is the Grandmother of Giulia, and inversely that Giulia has Rosa as Grandmother.\n",
    "\n",
    "4) ex:Alessandro ex:Has-Grandparent ex:Rosa\\\n",
    "This object property assertion indicates that Alessandro has Rosa as Grandmother, and inversely that Rosa is the Grandmother of Alessandro)."
   ]
  },
  {
   "cell_type": "markdown",
   "metadata": {},
   "source": [
    "---\n",
    "### The reasoner\n",
    "\n",
    "The questions following this point make use of Protégé reasoning capabilities, which are available via plugins but which are disabled by default. Install (if necessary) and start the *Pellet* reasoner before you continue with the next question.\n",
    "\n",
    "Refer to page 15 of the [Protégé guide](https://www.researchgate.net/publication/351037551_A_Practical_Guide_to_Building_OWL_Ontologies_Using_Protege_55_and_Plugins) for instructions on how to install and run the reasoner. \n",
    "\n",
    "---"
   ]
  },
  {
   "cell_type": "markdown",
   "metadata": {},
   "source": [
    "### Task 3 (0 Points): Reasoning on a basic ontology\n",
    "\n",
    "All assertions that were addded up til now were explicit. Yet, it is certainly possible that your ontology also contains one or more *implicit* assertions, that have emerged from the interactions between the added explicit assertions. \n",
    "\n",
    "Run the reasoner on your yet-basic ontology and write down the inferences occurred (if any) below:"
   ]
  },
  {
   "cell_type": "markdown",
   "metadata": {},
   "source": []
  },
  {
   "cell_type": "markdown",
   "metadata": {},
   "source": [
    "### Task 4a (1 Point): Necessary and sufficient conditions \n",
    "\n",
    "Select two classes from your ontology.  \n",
    "For **both** classes:\n",
    "- add necessary and sufficient conditions\n",
    "  (e.g. engineers are people who hold an engineering degree, and any person holding an engineering degree is an engineer)\n",
    "- infer class membership of *at least* one instance using each condition \n",
    "  \n",
    "List and describe the four conditions that you have added (i.e. axioms) in the textfield below. Do not forget to motivate your choices."
   ]
  },
  {
   "cell_type": "markdown",
   "metadata": {},
   "source": [
    "1) For class Child: Son or Daughter or ((Has-Parent some Father)  and  (Has-Parent some Mother))\\\n",
    "Infers classmembership of instances Angela and Valeria (Children of Rosa).\\\n",
    "This helps to define the relationship parent-child, as to be a child is necessary to be a member of the class Son or a Daughter, but it is also sufficient to have a biological father and a biological mother to be someone's child. \n",
    "\n",
    "2) For class Grandparent: Grandmother or Grandfather or (Grandparent-Of some FamilyTree)\\\n",
    "Infers classmembership of instances Maria and Michele Senior (Grandparents of Giulia and Michele). \n",
    "This helps to define the relationship grandparent-grandchild, as to be a grandparent is necessary to be a member of the class Grandfather or Grandmother, but it is also sufficient to be the grandparent of someone to be a grandparent. "
   ]
  },
  {
   "cell_type": "markdown",
   "metadata": {},
   "source": [
    "### Task 4b (1 Point): Reasoning over conditions\n",
    "\n",
    "Run the reasoner once again (after having added the two conditions).\n",
    "\n",
    "Write down the different steps of the reasoning process (ie, what happens when you run the reasoner). Also write down and explain the resulting inferences below."
   ]
  },
  {
   "cell_type": "markdown",
   "metadata": {},
   "source": [
    "The reasoner is able to reason and infer over the knowledge contained in our ontology. Specifically, the OWL reasoner works for ontology consistency, class satisfiability, classification, instance checking and conjunctive query answering.\n",
    "\n",
    "Inferences:\n",
    "- Angela and Valeria members of class Child, as they are the children of Rosa and Franco (even though they were not Daughter members) \n",
    "- Maria and MicheleSenior members of class Grandparent, as they are the grandparents of Giulia and Michele (even though they were not Grandfather or Grandmother members)."
   ]
  },
  {
   "cell_type": "markdown",
   "metadata": {},
   "source": [
    "### Task 5a (1 Point): Property characteristics\n",
    "\n",
    "Add **four** different property characteristics.\n",
    "\n",
    "Examples are\n",
    "- transitivity\n",
    "- symmetricity\n",
    "- functionality\n",
    "- (ir)reflexivity\n",
    "- property chain\n",
    "- disjoint properties\n",
    "- etc\n",
    "\n",
    "All four different characteristics can be asserted on one property (or on four different properties).\n",
    "\n",
    "List and describe the four property characteristics you defined (i.e. axioms) in the textfield below. Do not forget to motivate your choices."
   ]
  },
  {
   "cell_type": "markdown",
   "metadata": {},
   "source": [
    "- Has-Spouse: *functional and symmetric*\\\n",
    "**symmetric:** If x Has-Spouse y, then y Has-Spouse x\\\n",
    "**functional:** It is not possible to have more than one spouse.\n",
    "\n",
    "- Has-Son: *asymmetric and irreflexive*\\\n",
    "**asymmetric:** If x Has-Son y, then y not(Has-Son) x\\\n",
    "**irreflexive:** Is not possible to be the son of yourself. "
   ]
  },
  {
   "cell_type": "markdown",
   "metadata": {},
   "source": [
    "### Task 5b (1 Point): Reasoning over properties\n",
    "\n",
    "Run the reasoner once again (after having added the four properties).\n",
    "\n",
    "Write down the steps of the reasoning process (ie, what happens when you run the reasoner). Also write down and explain the resulting inferences below."
   ]
  },
  {
   "cell_type": "markdown",
   "metadata": {},
   "source": [
    "Also in this case, the reasoner is able to make inferences that make explicit the knowledge collected in the ontology. /\n",
    "Inferences: \n",
    "- Angela Has-Spouse Piero (as Piero has \"Has-Spouse Angela\" asserted in his object properties)\n",
    "- Angela and Piero also type:Spouse \n",
    "\n"
   ]
  },
  {
   "cell_type": "markdown",
   "metadata": {},
   "source": [
    "### Task 6 (1-2 Point): Saving your ontology\n",
    "\n",
    "Go over your ontology to ensure that it is consistent and that it meets all requirements as asked through the various questions. If both criteria are met you will obtain an additional point (making a total of 2 points for this question). Note that there are several [online validators](http://mowl-power.cs.man.ac.uk:8080/validator/) that can help you check your ontology for consistency.\n",
    "\n",
    "Next, export/save your ontology to a file using Turtle as serialization format. Use *save as* to ensure that later modifications won't end up in this file. \n",
    "\n",
    "**Submit this file together with your notebook**"
   ]
  },
  {
   "cell_type": "markdown",
   "metadata": {},
   "source": [
    "### Task 7 (1 Point): An inconsist ontology\n",
    "\n",
    "Add one or more axioms to your ontology in such a way that it becomes inconsistent. Note that the added axioms themselves *must* be consistent; adding a single inconsistent axiom is not allowed.\n",
    "\n",
    "**IMPORTANT: do not submit this version**\n",
    "\n",
    "List and describe the axioms that you added. Motivate your choices and explain why the ontology became inconsistent."
   ]
  },
  {
   "cell_type": "markdown",
   "metadata": {},
   "source": [
    "Of the four property characteristics defined in 5a, only two where actually useful to make inferences about the ontology. The other two were set up to check for ontology consistency. In fact, it is not biologically possible that someone is the son/daughter of himself/herself. If it is the case of a mistake in which someone is defined to have son/daughter himself/herself, the reasoner will allert for inconsist ontology. \n",
    "\n",
    "For this reason, to make our ontology incosistent is sufficient, for instance, to assert the following object property for the individual Michele:\\\n",
    "ex:Michele ex:Has-Son ex:Michele "
   ]
  },
  {
   "cell_type": "markdown",
   "metadata": {},
   "source": [
    "---\n",
    "\n",
    "## Submitting your answers\n",
    "\n",
    "To submit your answers for this assignment, create a zip-file containing both this notebook and your *consistent* ontology (saved during task 6). Name this zip-file **assignment_4_VUnetID.zip** (where VUnetID is of course to be replaced by your personal VUnetID, eg **rss220**), and submit it via Canvas."
   ]
  }
 ],
 "metadata": {
  "kernelspec": {
   "display_name": "Python 3.10.4 ('100days')",
   "language": "python",
   "name": "python3"
  },
  "language_info": {
   "codemirror_mode": {
    "name": "ipython",
    "version": 3
   },
   "file_extension": ".py",
   "mimetype": "text/x-python",
   "name": "python",
   "nbconvert_exporter": "python",
   "pygments_lexer": "ipython3",
   "version": "3.10.4"
  },
  "vscode": {
   "interpreter": {
    "hash": "91af407a6f541e5bfae1d5ad72731cf1ee3fb6150f67ebd7183de4ed1b585287"
   }
  }
 },
 "nbformat": 4,
 "nbformat_minor": 4
}
